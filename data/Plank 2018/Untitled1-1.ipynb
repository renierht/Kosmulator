{
 "cells": [
  {
   "cell_type": "code",
   "execution_count": 140,
   "id": "e774c27c-0136-4d82-8dc3-d799cd86a9aa",
   "metadata": {},
   "outputs": [],
   "source": [
    "import numpy as np\n",
    "import matplotlib.pyplot as plt\n",
    "import scipy.optimize as op\n",
    "import emcee\n",
    "import camb\n",
    "import healpy as hp\n",
    "from classy import Class\n",
    "from multiprocess import Pool,get_context\n",
    "import corner\n",
    "import clik"
   ]
  },
  {
   "cell_type": "code",
   "execution_count": 141,
   "id": "d0964716-4116-4c06-9d32-5cdc5ce6e309",
   "metadata": {},
   "outputs": [
    {
     "name": "stdout",
     "output_type": "stream",
     "text": [
      "[2.000e+00 3.000e+00 4.000e+00 ... 2.498e+03 2.499e+03 2.500e+03]\n",
      "[   2    3    4 ... 2498 2499 2500]\n"
     ]
    },
    {
     "data": {
      "text/plain": [
       "2499"
      ]
     },
     "execution_count": 141,
     "metadata": {},
     "output_type": "execute_result"
    }
   ],
   "source": [
    "l = np.loadtxt('COM_PowerSpect_CMB-TT-full_R3.01.txt', usecols = 0)\n",
    "Dl = np.loadtxt('COM_PowerSpect_CMB-TT-full_R3.01.txt', usecols = 1)\n",
    "Dl_minus = np.loadtxt('COM_PowerSpect_CMB-TT-full_R3.01.txt', usecols = 2)\n",
    "Dl_plus = np.loadtxt('COM_PowerSpect_CMB-TT-full_R3.01.txt', usecols = 3)\n",
    "\n",
    "l = l[:2499]\n",
    "Dl = Dl[:2499]\n",
    "Dl_minus = Dl_minus[:2499]\n",
    "Dl_plus = Dl_plus[:2499]\n",
    "\n",
    "print(l)\n",
    "l_theory = np.arange(2, 2501)\n",
    "\n",
    "print(l_theory)\n",
    "np.size(l)"
   ]
  },
  {
   "cell_type": "code",
   "execution_count": 142,
   "id": "0014916e-ae06-4379-ba57-1c971ff4aecc",
   "metadata": {},
   "outputs": [
    {
     "data": {
      "text/plain": [
       "2499"
      ]
     },
     "execution_count": 142,
     "metadata": {},
     "output_type": "execute_result"
    }
   ],
   "source": [
    "sigma = (Dl_minus+Dl_plus/2)\n",
    "np.size(sigma)"
   ]
  },
  {
   "cell_type": "code",
   "execution_count": 179,
   "id": "f9420f6a-230e-41fc-b243-7c9bc64d7433",
   "metadata": {},
   "outputs": [],
   "source": [
    "# Define your cosmology (what is not specified will be set to CLASS default parameters)\n",
    "params = {\n",
    "    'output': 'tCl lCl',\n",
    "    'l_max_scalars': 2500,\n",
    "    'lensing': 'yes',\n",
    "    'A_s': 2.5e-9,\n",
    "    'n_s': 0.9624, \n",
    "    'h': 0.6711,\n",
    "    'omega_b': 0.022068,\n",
    "    'omega_cdm': 0.12029}\n",
    "\n",
    "# Create an instance of the CLASS wrapper\n",
    "cosmo = Class()\n",
    "\n",
    "# Set the parameters to the cosmological code\n",
    "cosmo.set(params)\n",
    "\n",
    "# Run the whole code. Depending on your output, it will call the\n",
    "# CLASS modules more or less fast. For instance, without any\n",
    "# output asked, CLASS will only compute background quantities,\n",
    "# thus running almost instantaneously.\n",
    "# This is equivalent to the beginning of the `main` routine of CLASS,\n",
    "# with all the struct_init() methods called.\n",
    "cosmo.compute()\n",
    "\n",
    "# Access the lensed cl until l=2000\n",
    "cls = cosmo.lensed_cl(2500)\n",
    "l_theory = np.arange(2, 2501)\n",
    "\n",
    "Dl_theory = cls['tt'][2:] * l_theory * (l_theory + 1) * 1e12"
   ]
  },
  {
   "cell_type": "code",
   "execution_count": 180,
   "id": "a530978d-e85d-4569-89fd-7d2070af14e7",
   "metadata": {
    "scrolled": true
   },
   "outputs": [
    {
     "data": {
      "image/png": "[encoded data removed]",
      "text/plain": [
       "<Figure size 640x480 with 1 Axes>"
      ]
     },
     "metadata": {},
     "output_type": "display_data"
    }
   ],
   "source": [
    "plt.plot(l_theory,Dl_theory)\n",
    "plt.errorbar(l, Dl, yerr=[Dl_plus,Dl_minus], xerr=None, fmt='.')\n",
    "plt.ylabel('D_l [μK^2]')\n",
    "plt.xlabel('l')\n",
    "plt.title('Power spectrum (TT)')\n",
    "plt.savefig('Power_spectrum.pdf')\n"
   ]
  },
  {
   "cell_type": "code",
   "execution_count": 181,
   "id": "72f8565b-7a9d-4ce1-8fa9-19341a87de4a",
   "metadata": {},
   "outputs": [],
   "source": [
    "def likelihood(theta, l, Dl, Dl_minus, Dl_plus):\n",
    "    # Correct the order of parameters\n",
    "    ln_A_s, n_s, H0, Omega_b, Omega_cdm = theta\n",
    "\n",
    "    A_s = np.exp(ln_A_s)\n",
    "    params = {\n",
    "        'output': 'tCl lCl',\n",
    "        'l_max_scalars': 2500,\n",
    "        'lensing': 'yes',\n",
    "        'A_s': A_s,\n",
    "        'n_s': n_s, \n",
    "        'h': H0/100,  # H0 in terms of H0/100\n",
    "        'omega_b': Omega_b,\n",
    "        'omega_cdm': Omega_cdm\n",
    "    }\n",
    "\n",
    "    cosmo = Class()\n",
    "    cosmo.set(params)\n",
    "    cosmo.compute()\n",
    "\n",
    "    l_theory = np.arange(2, 2501)\n",
    "    \n",
    "    cls = cosmo.lensed_cl()\n",
    "    Dl_theory = cls['tt'][2:] * l_theory * (l_theory + 1) * 1e12\n",
    "\n",
    "    chi2 = np.sum(((Dl - Dl_theory)**2) / (Dl_minus**2 + Dl_plus**2))\n",
    "    return -0.5 * chi2"
   ]
  },
  {
   "cell_type": "code",
   "execution_count": 182,
   "id": "50ee2548-2bc4-458a-9d50-9935c4c17a96",
   "metadata": {},
   "outputs": [],
   "source": [
    "def lnprior(theta):\n",
    "    ln_A_s, n_s, H0, Omega_b, Omega_cdm = theta\n",
    "    if (-30<ln_A_s<0 and 0.8<n_s< 1.2 and 50 < H0 < 70 and\n",
    "        0 < Omega_b < 0.03 and 0 < Omega_cdm < 0.5):\n",
    "        return 0.0\n",
    "    return -np.inf"
   ]
  },
  {
   "cell_type": "code",
   "execution_count": 183,
   "id": "55b558be-b669-43d1-9fac-0bc2e6288f3d",
   "metadata": {},
   "outputs": [],
   "source": [
    "def lnprob(theta, l, Dl, Dl_minus, Dl_plus):\n",
    "    lp = lnprior(theta)\n",
    "    if not np.isfinite(lp):\n",
    "        return -np.inf\n",
    "    return lp + likelihood(theta, l, Dl, Dl_minus, Dl_plus)"
   ]
  },
  {
   "cell_type": "code",
   "execution_count": 184,
   "id": "60483fcd-4c93-4477-a0dc-40527664cdfc",
   "metadata": {},
   "outputs": [],
   "source": [
    "A_s_0 = np.log(2.3e-9)\n",
    "n_s_0 = 0.9624\n",
    "h_0 = 0.6711\n",
    "omega_b_0 = 0.022068\n",
    "omega_cdm_0 = 0.12029"
   ]
  },
  {
   "cell_type": "code",
   "execution_count": 185,
   "id": "cb07399d-6c15-4f6b-bd21-e062e29dc562",
   "metadata": {},
   "outputs": [
    {
     "name": "stdout",
     "output_type": "stream",
     "text": [
      "Minimized parameters: [-1.98903567e+01  9.62400000e-01  6.00000000e+01  2.20680000e-02\n",
      "  1.20290000e-01]\n"
     ]
    }
   ],
   "source": [
    "theta = [A_s_0, n_s_0, h_0, omega_b_0, omega_cdm_0]\n",
    "nll = lambda *args: -likelihood(*args)\n",
    "Minimize = op.minimize(nll, theta,args=(l, Dl, Dl_minus, Dl_plus),\n",
    "                       bounds=((-30, 0.1**2), (0.8,1.2), (60, 80), (0.01, 0.03), (0.01, 0.5)))\n",
    "print(\"Minimized parameters:\", Minimize['x'])"
   ]
  },
  {
   "cell_type": "code",
   "execution_count": null,
   "id": "d4cc60bf-d2d0-455c-8933-643dea60d326",
   "metadata": {},
   "outputs": [
    {
     "name": "stderr",
     "output_type": "stream",
     "text": [
      "  2%|▋                                 | 21/1000 [28:17<24:02:12, 88.39s/it]"
     ]
    }
   ],
   "source": [
    "ndim = 5\n",
    "nwalker = 100\n",
    "nsteps = 1000\n",
    "burn = 100\n",
    "\n",
    "pos = [Minimize[\"x\"] + 1e-4 * np.random.randn(ndim) for i in range(nwalker)]\n",
    "\n",
    "with Pool() as pool:\n",
    "    sampler = emcee.EnsembleSampler(nwalker,ndim,lnprob,args = (l,Dl,Dl_minus, Dl_plus), pool=pool)\n",
    "    sampler.run_mcmc(pos,nsteps, progress=True)\n",
    "    samples1 = sampler.chain[:,burn:,:].reshape((-1,ndim))"
   ]
  },
  {
   "cell_type": "code",
   "execution_count": null,
   "id": "dd7846fe-1f37-4441-9e3a-24dbaa83d76d",
   "metadata": {
    "scrolled": true
   },
   "outputs": [],
   "source": [
    "fig = plt.figure()\n",
    "corner.corner(samples1,labels=[\"exp(A_s)\",\"n_s\",\"H\",\"omega_b\",\"omega_cdm\"],color = \"blue\",plot_density=True, smooth=True,storechain=True, plot_datapoints=False, \n",
    "                        fill_contours=True,show_titles=True,title_fmt = '.3f',bins=100)\n",
    "plt.savefig(\"Plank_2018.png\",dpi=400)\n",
    "plt.show()"
   ]
  },
  {
   "cell_type": "code",
   "execution_count": 95,
   "id": "307cf68b-aa2f-4f36-b914-4bf7df6f0537",
   "metadata": {},
   "outputs": [
    {
     "name": "stdout",
     "output_type": "stream",
     "text": [
      "Likelihood for minimized parameters: -1219.896078512976\n"
     ]
    }
   ],
   "source": [
    "test_theta = [2.29703807e-09, 0.962941293, 60, 0.022040507, 0.121155044]\n",
    "print(\"Likelihood for minimized parameters:\", likelihood(test_theta, l, Dl, sigma))\n"
   ]
  },
  {
   "cell_type": "code",
   "execution_count": 78,
   "id": "e343246d-218f-402f-93d3-5b2f827e9136",
   "metadata": {},
   "outputs": [
    {
     "name": "stdout",
     "output_type": "stream",
     "text": [
      "-1431.538193800896\n"
     ]
    }
   ],
   "source": [
    "test_theta = [2.1e-9, 0.96, 67.4, 0.022, 0.12]  # Example input\n",
    "print(likelihood(test_theta, l, Dl, Dl_minus, Dl_plus))"
   ]
  },
  {
   "cell_type": "code",
   "execution_count": 94,
   "id": "9f28076c-3ede-49be-b02b-237127ee498f",
   "metadata": {},
   "outputs": [
    {
     "name": "stdout",
     "output_type": "stream",
     "text": [
      "lnprior for minimized parameters: 0.0\n"
     ]
    }
   ],
   "source": [
    "print(\"lnprior for minimized parameters:\", lnprior([2.29703807e-09, 0.962941293, 60, 0.022040507, 0.121155044]))"
   ]
  },
  {
   "cell_type": "code",
   "execution_count": null,
   "id": "c73ebeb3-f27e-4231-8be0-dbcb11d8a93c",
   "metadata": {},
   "outputs": [],
   "source": [
    "clik_file = '/Users/robertrugg/Downloads/baseline/plc_3.0/hi_l/plik/plik_rd12_HM_v22_TT.clik'\n",
    "likelihood = clik.clik(clik_file)\n",
    "\n",
    "def likelihood(theta):\n",
    "    A_s, n_s, H0, Omega_b, Omega_cdm = theta\n",
    "    params = {\n",
    "        'A_s': A_s,\n",
    "        'n_s': n_s,\n",
    "        'h': H0 / 100,\n",
    "        'omega_b': Omega_b,\n",
    "        'omega_cdm': Omega_cdm\n",
    "    }\n",
    "\n",
    "    param_vector = [\n",
    "        params['omega_b'], \n",
    "        params['omega_cdm'], \n",
    "        params['h'], \n",
    "        params['n_s'], \n",
    "        params['A_s']\n",
    "    ]\n",
    "\n",
    "    try:\n",
    "        loglike = likelihood()(l, Dl, Dl_model, Dl_minus, Dl_plus)\n",
    "    except Exception as e:\n",
    "        loglike = -np.inf\n",
    "        print(f\"Error in likelihood calculation: {e}\")\n",
    "    \n",
    "    return loglike"
   ]
  },
  {
   "cell_type": "code",
   "execution_count": 96,
   "id": "4b9688bb-23e6-4eb2-8e3f-ce336f9379d5",
   "metadata": {},
   "outputs": [
    {
     "name": "stdout",
     "output_type": "stream",
     "text": [
      "lnprob for minimized parameters: -1219.896078512976\n"
     ]
    }
   ],
   "source": [
    "test_theta = [2.29703807e-09, 0.962941293, 60, 0.022040507, 0.121155044]\n",
    "print(\"lnprob for minimized parameters:\", lnprob(test_theta, l, Dl, sigma))"
   ]
  },
  {
   "cell_type": "code",
   "execution_count": 2,
   "id": "f162491f-9f59-4ebf-b83c-5280a95c93e1",
   "metadata": {},
   "outputs": [
    {
     "name": "stdout",
     "output_type": "stream",
     "text": [
      "2.2.1\n"
     ]
    }
   ],
   "source": [
    "import numpy as np\n",
    "print(np.__version__)"
   ]
  },
  {
   "cell_type": "code",
   "execution_count": 39,
   "id": "f66dc158-0a73-49cc-8dc9-c7ab168c0d09",
   "metadata": {},
   "outputs": [
    {
     "name": "stdout",
     "output_type": "stream",
     "text": [
      "<class 'module'>\n"
     ]
    }
   ],
   "source": [
    "print(type(clik))"
   ]
  },
  {
   "cell_type": "code",
   "execution_count": 40,
   "id": "a7f140be-c421-42bc-a20b-90b8f3c644a2",
   "metadata": {},
   "outputs": [
    {
     "name": "stdout",
     "output_type": "stream",
     "text": [
      "['__annotations__', '__builtins__', '__call__', '__class__', '__closure__', '__code__', '__defaults__', '__delattr__', '__dict__', '__dir__', '__doc__', '__eq__', '__format__', '__ge__', '__get__', '__getattribute__', '__getstate__', '__globals__', '__gt__', '__hash__', '__init__', '__init_subclass__', '__kwdefaults__', '__le__', '__lt__', '__module__', '__name__', '__ne__', '__new__', '__qualname__', '__reduce__', '__reduce_ex__', '__repr__', '__setattr__', '__sizeof__', '__str__', '__subclasshook__', '__type_params__']\n"
     ]
    }
   ],
   "source": [
    "print(dir(likelihood))  # This will show all the available methods of the 'likelihood' object\n"
   ]
  },
  {
   "cell_type": "code",
   "execution_count": 97,
   "id": "afdd6fdf-a6dd-4792-bd66-46c239508b0b",
   "metadata": {},
   "outputs": [
    {
     "name": "stdout",
     "output_type": "stream",
     "text": [
      "lnprob for minimized parameters: -1219.896078512976\n"
     ]
    }
   ],
   "source": [
    "test_theta = [2.29703807e-09, 0.962941293, 60, 0.022040507, 0.121155044]\n",
    "print(\"lnprob for minimized parameters:\", lnprob(test_theta, l, Dl, sigma))\n"
   ]
  },
  {
   "cell_type": "code",
   "execution_count": 98,
   "id": "52116f99-ed4f-4682-a202-8c3e543bca7a",
   "metadata": {},
   "outputs": [
    {
     "name": "stdout",
     "output_type": "stream",
     "text": [
      "Walker 0 initial position: [-4.53897850e-05  9.62816936e-01  6.00000981e+01  2.20390477e-02\n",
      "  1.21058378e-01], lnprior: -inf\n",
      "Walker 1 initial position: [6.48327392e-05 9.62743027e-01 6.00000367e+01 2.21255083e-02\n",
      " 1.21067698e-01], lnprior: -inf\n",
      "Walker 2 initial position: [-1.43292709e-04  9.62923677e-01  5.99998692e+01  2.20631320e-02\n",
      "  1.21052613e-01], lnprior: -inf\n",
      "Walker 3 initial position: [1.36950053e-04 9.62926599e-01 6.00000453e+01 2.19335018e-02\n",
      " 1.21342361e-01], lnprior: -inf\n",
      "Walker 4 initial position: [8.65388754e-05 9.62908801e-01 5.99999119e+01 2.21713281e-02\n",
      " 1.21145276e-01], lnprior: -inf\n",
      "Walker 5 initial position: [-1.90216154e-04  9.62831900e-01  5.99996988e+01  2.18719727e-02\n",
      "  1.20985276e-01], lnprior: -inf\n",
      "Walker 6 initial position: [-2.61106903e-04  9.62916004e-01  6.00000295e+01  2.20132729e-02\n",
      "  1.21014799e-01], lnprior: -inf\n",
      "Walker 7 initial position: [-1.35092262e-05  9.63055931e-01  5.99999091e+01  2.21907902e-02\n",
      "  1.21119858e-01], lnprior: -inf\n",
      "Walker 8 initial position: [-6.65841270e-05  9.62864211e-01  5.99999349e+01  2.18689227e-02\n",
      "  1.21181019e-01], lnprior: -inf\n",
      "Walker 9 initial position: [-1.17791143e-04  9.63116962e-01  6.00000803e+01  2.21392460e-02\n",
      "  1.21151905e-01], lnprior: -inf\n"
     ]
    }
   ],
   "source": [
    "for idx, p in enumerate(pos):\n",
    "    print(f\"Walker {idx} initial position: {p}, lnprior: {lnprior(p)}\")"
   ]
  },
  {
   "cell_type": "code",
   "execution_count": 100,
   "id": "096f3d6c-9dd9-4810-8f80-dd7d52f0dc41",
   "metadata": {},
   "outputs": [],
   "source": [
    "# Ensure walkers start in a reasonable range, adding larger perturbations to test\n",
    "pos = [\n",
    "    np.array(test_theta) + np.random.randn(ndim) * 1e-2  # Increase step size\n",
    "    for i in range(nwalker)\n",
    "]"
   ]
  },
  {
   "cell_type": "code",
   "execution_count": null,
   "id": "cda205bb-a7df-409e-9cd4-78cebc1b5c31",
   "metadata": {},
   "outputs": [],
   "source": []
  }
 ],
 "metadata": {
  "kernelspec": {
   "display_name": "Python 3 (ipykernel)",
   "language": "python",
   "name": "python3"
  },
  "language_info": {
   "codemirror_mode": {
    "name": "ipython",
    "version": 3
   },
   "file_extension": ".py",
   "mimetype": "text/x-python",
   "name": "python",
   "nbconvert_exporter": "python",
   "pygments_lexer": "ipython3",
   "version": "3.12.2"
  }
 },
 "nbformat": 4,
 "nbformat_minor": 5
}
